{
 "cells": [
  {
   "cell_type": "code",
   "execution_count": 1,
   "metadata": {},
   "outputs": [],
   "source": [
    "#Some simulation constants:\n",
    "DATA_FILE = \"01_clothing_data_joined_L_parts\"\n",
    "DATA_FOLDER = \"../data/\"\n",
    "EXPERIMENT_CONFIG_FOLDER = \"../simulation/\""
   ]
  },
  {
   "cell_type": "markdown",
   "metadata": {},
   "source": [
    "# 1) Lets load the _ClothesList!"
   ]
  },
  {
   "cell_type": "markdown",
   "metadata": {},
   "source": [
    "First we need to format logging to nicely format log messages as we please!"
   ]
  },
  {
   "cell_type": "code",
   "execution_count": 2,
   "metadata": {},
   "outputs": [],
   "source": [
    "import logging\n",
    "logger = logging.getLogger()\n",
    "console_handler = logging.StreamHandler()\n",
    "console_handler.setLevel(logging.DEBUG)\n",
    "formatter = logging.Formatter(\"=[%(levelname)s @ %(filename)s (L=%(lineno)s) F=%(funcName)s() ]= %(message)s\")\n",
    "console_handler.setFormatter(formatter)\n",
    "logger.addHandler(console_handler)   "
   ]
  },
  {
   "cell_type": "markdown",
   "metadata": {},
   "source": [
    "Get the clothing data object for simulation. Because our notebooks are in a subfolder, we need to add parent folder to sys.path!"
   ]
  },
  {
   "cell_type": "code",
   "execution_count": 3,
   "metadata": {},
   "outputs": [],
   "source": [
    "import sys, os\n",
    "sys.path.insert(1, os.path.join(sys.path[0], '..'))\n",
    "from clothing.clothes_list import ClothesList\n",
    "\n",
    "_ClothesList = ClothesList(DATA_FOLDER + DATA_FILE).getClothesList() # List of ClothingItem\n"
   ]
  },
  {
   "cell_type": "markdown",
   "metadata": {},
   "source": [
    "Now we have _ClothesList, which is a list of _ClothingItem_\n",
    "\n",
    "__ClothingItem__ contains multiple clothing parts and corresponding joints. Its main properties are:\n",
    "* __.Name__\n",
    "* __.getPartList()__ [._partList ] - list of _ClothingPart_\n",
    "* __.getJointList()__ [._jointList] - list of _Joint_\n",
    "\n",
    "__ClothingPart__ contains multiple points and corresponding segments. Its main properties are:\n",
    "* __.Name__\n",
    "* __.PointList__ - list of points (Each point is __[x,y]__ where x and y are coordinates in a plane, normalized so that both are smallest non-negative numbers able to hold the whole clothing part.\n",
    "* __.getSegmentList()__ [._segmentList] - list of segments (Each segment is __[n1, n2]__ where n is the index of point in _.PointList_).\n",
    "\n",
    "__Joint__ contains a pair of parts and a corresponding pair of segments, which together make a sewn joint. Its main properties are:\n",
    "* __.getName()__ - Returns a human readable joint name including its inversion state and segment/part pairs\n",
    "* __.getParts()__ [._parts] - list of two part indexes __[p1, p2]__ in the _.getPartList()_ of parent _ClothingItem_. \n",
    "* __.getSegments()__ [._segments] - list of two segment indexes __[s1, s2]__ in the _.getSegmentList()_ of the relative _ClothingPart_ from the _.getParts()_ of this Joint\n",
    "* __.isInverted()__ [._inverted] - boolean - if __false__, both segments relate from lowest to highest point index, if __true__, then highest index from one matches the lowest on the other."
   ]
  },
  {
   "cell_type": "markdown",
   "metadata": {},
   "source": [
    "# Imports"
   ]
  },
  {
   "cell_type": "code",
   "execution_count": 4,
   "metadata": {},
   "outputs": [],
   "source": [
    "from shapely.geometry import Point, LinearRing, LineString, MultiLineString, Polygon, GeometryCollection \n",
    "from shapely import affinity\n",
    "%matplotlib inline"
   ]
  },
  {
   "cell_type": "code",
   "execution_count": 5,
   "metadata": {},
   "outputs": [],
   "source": [
    "from visualizer import Visualizer\n",
    "viz = Visualizer()\n"
   ]
  },
  {
   "cell_type": "code",
   "execution_count": 6,
   "metadata": {},
   "outputs": [],
   "source": [
    "from tessellator import Tessellator"
   ]
  },
  {
   "cell_type": "markdown",
   "metadata": {},
   "source": [
    "# Work with experiment generator!"
   ]
  },
  {
   "cell_type": "code",
   "execution_count": 7,
   "metadata": {},
   "outputs": [],
   "source": [
    "\n",
    "from generator import ClothingExperimentGenerator\n",
    "\n"
   ]
  },
  {
   "cell_type": "code",
   "execution_count": 9,
   "metadata": {},
   "outputs": [],
   "source": [
    "## Generates actual experiment configs\n",
    "## TODO - Clothing experiment generator is not finished - need to cover all interesting cases, \n",
    "## and here potentially split in mupltiple files\n",
    "\n",
    "gen = ClothingExperimentGenerator(_ClothesList) # agrak te bija otrs parametrs>>??, 45)\n",
    "iteration = 0\n",
    "\n",
    "current_tess = None\n",
    "\n",
    "file = None\n",
    "\n",
    "for gen_res in gen.generate_configuration():\n",
    "    iteration = iteration + 1\n",
    "    if iteration < 37401:\n",
    "        continue\n",
    "    if gen_res.tessellation_algorithm != current_tess:\n",
    "        if(file!=None):\n",
    "            file.close()\n",
    "        current_tess = gen_res.tessellation_algorithm\n",
    "        filename = EXPERIMENT_CONFIG_FOLDER+current_tess+\"_config.json\"\n",
    "        file = open(filename,\"w\")         \n",
    "    \n",
    "    \n",
    "    \n",
    "    #if iteration%10 is 0:\n",
    "    file.write(gen_res.serialize()+\"\\n\") \n",
    "        #viz.visualize_a_clothe(a_clothe, tesselations = execute_experiment(gen_res), scale=1.05)\n",
    "\n",
    "    \n",
    "    #if iteration>5000:\n",
    "    #    break\n",
    "if(file!=None):\n",
    "    file.close()"
   ]
  },
  {
   "cell_type": "code",
   "execution_count": null,
   "metadata": {},
   "outputs": [],
   "source": []
  }
 ],
 "metadata": {
  "kernelspec": {
   "display_name": "Python 3 (ipykernel)",
   "language": "python",
   "name": "python3"
  },
  "language_info": {
   "codemirror_mode": {
    "name": "ipython",
    "version": 3
   },
   "file_extension": ".py",
   "mimetype": "text/x-python",
   "name": "python",
   "nbconvert_exporter": "python",
   "pygments_lexer": "ipython3",
   "version": "3.10.11"
  }
 },
 "nbformat": 4,
 "nbformat_minor": 4
}
